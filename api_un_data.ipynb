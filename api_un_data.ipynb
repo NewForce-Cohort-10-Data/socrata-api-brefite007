{
 "cells": [
  {
   "cell_type": "markdown",
   "id": "54b94b25-71ef-4775-b7bd-eedec9974c14",
   "metadata": {},
   "source": [
    "Use the API to get all available data for the GDP per capita, PPP (constant 2017 international $) indicator. Hint: this indicator has code \"NY.GDP.PCAP.PP.KD\". Adjust the query parameters so that you can retrieve all available rows. Convert the results to a DataFrame."
   ]
  },
  {
   "cell_type": "code",
   "execution_count": 44,
   "id": "ee1e3c8c-feee-4f20-9185-7ebbe93039fb",
   "metadata": {},
   "outputs": [],
   "source": [
    "import requests"
   ]
  },
  {
   "cell_type": "code",
   "execution_count": 45,
   "id": "a97b7c2f-c54b-44a0-938f-323cd2cf23c8",
   "metadata": {},
   "outputs": [],
   "source": [
    "import pandas as pd"
   ]
  },
  {
   "cell_type": "code",
   "execution_count": 46,
   "id": "470538c5-5d0a-48c4-9f1f-e14f0b4cca28",
   "metadata": {},
   "outputs": [],
   "source": [
    "url = \"http://api.worldbank.org/v2/country/all/indicator/NY.GDP.PCAP.PP.KD\""
   ]
  },
  {
   "cell_type": "code",
   "execution_count": 47,
   "id": "78614d0f-92c6-4146-aee2-2838cc858a0f",
   "metadata": {},
   "outputs": [],
   "source": [
    "base_params = {\n",
    "    \"format\": \"json\",\n",
    "    \"per_page\": 500,\n",
    "    \"page\": 1\n",
    "}"
   ]
  },
  {
   "cell_type": "markdown",
   "id": "3e21c25d-ed4b-415f-b9aa-042072503469",
   "metadata": {},
   "source": [
    "Makes the first API call to get the total number of pages from the metadata. base_params: This is a dictionary that contains the parameters that the API needs in order to fulfill the request."
   ]
  },
  {
   "cell_type": "code",
   "execution_count": 7,
   "id": "d68cd91c-ab3a-4b4d-a7e2-39f64e58adfd",
   "metadata": {},
   "outputs": [
    {
     "name": "stdout",
     "output_type": "stream",
     "text": [
      "Total number of pages: 35\n"
     ]
    }
   ],
   "source": [
    "response = requests.get(url, params=base_params)\n",
    "data = response.json()\n",
    "total_pages = data[0]['pages']\n",
    "print(\"Total number of pages:\", total_pages)"
   ]
  },
  {
   "cell_type": "markdown",
   "id": "db9745e6-4eb8-4cb6-879e-58b647ed436d",
   "metadata": {},
   "source": [
    "data[0]: The first item in the list. 'pages': uses the key 'pages' to retrieve the corresponding value, which is the total number of pages. "
   ]
  },
  {
   "cell_type": "code",
   "execution_count": 9,
   "id": "27c38c91-21b0-4a09-abfa-b09351706f7f",
   "metadata": {},
   "outputs": [],
   "source": [
    "all_data = []"
   ]
  },
  {
   "cell_type": "code",
   "execution_count": 10,
   "id": "df1142b4-0a76-4412-a1c2-493c2b683bba",
   "metadata": {},
   "outputs": [],
   "source": [
    "for page in range(1, total_pages + 1):\n",
    "    params = {\n",
    "        \"format\": \"json\",\n",
    "        \"per_page\": 500,\n",
    "        \"page\": page\n",
    "    }\n",
    "    response = requests.get(url, params=params)\n",
    "    data = response.json()\n",
    "    all_data.extend(data[1]) "
   ]
  },
  {
   "cell_type": "markdown",
   "id": "64a5a6a9-c27e-4fcd-9249-e2b64915c7be",
   "metadata": {},
   "source": [
    "The range() method -starts a loop from page 1 to page 35. The +1 is there because range() in Python is exclusive on the upper end. The params paginates the information per page.The extend() method takes that list and adds each individual record from data[1] to the all_data list.  The extend() method is used to avoid having nested lists and to keep all_data as a flat list of individual records."
   ]
  },
  {
   "cell_type": "code",
   "execution_count": 12,
   "id": "ef415698-464c-47fa-8002-48947598d2ce",
   "metadata": {
    "scrolled": true
   },
   "outputs": [
    {
     "name": "stdout",
     "output_type": "stream",
     "text": [
      "Total records retrieved: 17024\n"
     ]
    }
   ],
   "source": [
    "df = pd.DataFrame(all_data)\n",
    "print(\"Total records retrieved:\", len(df))"
   ]
  },
  {
   "cell_type": "markdown",
   "id": "f02317e1-aa7b-4054-b982-f282f91bf057",
   "metadata": {},
   "source": [
    " Total records retrieved is a string used in the print() function to describe what is showing."
   ]
  },
  {
   "cell_type": "code",
   "execution_count": 14,
   "id": "ed127912-9c7c-4cd2-8d43-dd68c7740921",
   "metadata": {},
   "outputs": [
    {
     "data": {
      "text/html": [
       "<div>\n",
       "<style scoped>\n",
       "    .dataframe tbody tr th:only-of-type {\n",
       "        vertical-align: middle;\n",
       "    }\n",
       "\n",
       "    .dataframe tbody tr th {\n",
       "        vertical-align: top;\n",
       "    }\n",
       "\n",
       "    .dataframe thead th {\n",
       "        text-align: right;\n",
       "    }\n",
       "</style>\n",
       "<table border=\"1\" class=\"dataframe\">\n",
       "  <thead>\n",
       "    <tr style=\"text-align: right;\">\n",
       "      <th></th>\n",
       "      <th>indicator</th>\n",
       "      <th>country</th>\n",
       "      <th>countryiso3code</th>\n",
       "      <th>date</th>\n",
       "      <th>value</th>\n",
       "      <th>unit</th>\n",
       "      <th>obs_status</th>\n",
       "      <th>decimal</th>\n",
       "    </tr>\n",
       "  </thead>\n",
       "  <tbody>\n",
       "    <tr>\n",
       "      <th>0</th>\n",
       "      <td>{'id': 'NY.GDP.PCAP.PP.KD', 'value': 'GDP per ...</td>\n",
       "      <td>{'id': 'ZH', 'value': 'Africa Eastern and Sout...</td>\n",
       "      <td>AFE</td>\n",
       "      <td>2023</td>\n",
       "      <td>3967.860937</td>\n",
       "      <td></td>\n",
       "      <td></td>\n",
       "      <td>0</td>\n",
       "    </tr>\n",
       "    <tr>\n",
       "      <th>1</th>\n",
       "      <td>{'id': 'NY.GDP.PCAP.PP.KD', 'value': 'GDP per ...</td>\n",
       "      <td>{'id': 'ZH', 'value': 'Africa Eastern and Sout...</td>\n",
       "      <td>AFE</td>\n",
       "      <td>2022</td>\n",
       "      <td>3974.803045</td>\n",
       "      <td></td>\n",
       "      <td></td>\n",
       "      <td>0</td>\n",
       "    </tr>\n",
       "    <tr>\n",
       "      <th>2</th>\n",
       "      <td>{'id': 'NY.GDP.PCAP.PP.KD', 'value': 'GDP per ...</td>\n",
       "      <td>{'id': 'ZH', 'value': 'Africa Eastern and Sout...</td>\n",
       "      <td>AFE</td>\n",
       "      <td>2021</td>\n",
       "      <td>3934.287267</td>\n",
       "      <td></td>\n",
       "      <td></td>\n",
       "      <td>0</td>\n",
       "    </tr>\n",
       "    <tr>\n",
       "      <th>3</th>\n",
       "      <td>{'id': 'NY.GDP.PCAP.PP.KD', 'value': 'GDP per ...</td>\n",
       "      <td>{'id': 'ZH', 'value': 'Africa Eastern and Sout...</td>\n",
       "      <td>AFE</td>\n",
       "      <td>2020</td>\n",
       "      <td>3861.111238</td>\n",
       "      <td></td>\n",
       "      <td></td>\n",
       "      <td>0</td>\n",
       "    </tr>\n",
       "    <tr>\n",
       "      <th>4</th>\n",
       "      <td>{'id': 'NY.GDP.PCAP.PP.KD', 'value': 'GDP per ...</td>\n",
       "      <td>{'id': 'ZH', 'value': 'Africa Eastern and Sout...</td>\n",
       "      <td>AFE</td>\n",
       "      <td>2019</td>\n",
       "      <td>4073.880522</td>\n",
       "      <td></td>\n",
       "      <td></td>\n",
       "      <td>0</td>\n",
       "    </tr>\n",
       "  </tbody>\n",
       "</table>\n",
       "</div>"
      ],
      "text/plain": [
       "                                           indicator  \\\n",
       "0  {'id': 'NY.GDP.PCAP.PP.KD', 'value': 'GDP per ...   \n",
       "1  {'id': 'NY.GDP.PCAP.PP.KD', 'value': 'GDP per ...   \n",
       "2  {'id': 'NY.GDP.PCAP.PP.KD', 'value': 'GDP per ...   \n",
       "3  {'id': 'NY.GDP.PCAP.PP.KD', 'value': 'GDP per ...   \n",
       "4  {'id': 'NY.GDP.PCAP.PP.KD', 'value': 'GDP per ...   \n",
       "\n",
       "                                             country countryiso3code  date  \\\n",
       "0  {'id': 'ZH', 'value': 'Africa Eastern and Sout...             AFE  2023   \n",
       "1  {'id': 'ZH', 'value': 'Africa Eastern and Sout...             AFE  2022   \n",
       "2  {'id': 'ZH', 'value': 'Africa Eastern and Sout...             AFE  2021   \n",
       "3  {'id': 'ZH', 'value': 'Africa Eastern and Sout...             AFE  2020   \n",
       "4  {'id': 'ZH', 'value': 'Africa Eastern and Sout...             AFE  2019   \n",
       "\n",
       "         value unit obs_status  decimal  \n",
       "0  3967.860937                        0  \n",
       "1  3974.803045                        0  \n",
       "2  3934.287267                        0  \n",
       "3  3861.111238                        0  \n",
       "4  4073.880522                        0  "
      ]
     },
     "execution_count": 14,
     "metadata": {},
     "output_type": "execute_result"
    }
   ],
   "source": [
    "df.head()"
   ]
  },
  {
   "cell_type": "markdown",
   "id": "1beb40dd-03fc-4f97-acbf-6b297b386bbe",
   "metadata": {},
   "source": [
    "2. API is used to get all available data for Life expectancy at birth, total (years). "
   ]
  },
  {
   "cell_type": "code",
   "execution_count": 16,
   "id": "b7373c92-91ea-4ab8-8fd6-c1dd5042aafd",
   "metadata": {},
   "outputs": [],
   "source": [
    "url = \"http://api.worldbank.org/v2/country/all/indicator/SP.DYN.LE00.IN\""
   ]
  },
  {
   "cell_type": "code",
   "execution_count": 17,
   "id": "9891550f-0b7a-44b6-8088-ab2a6bdbec7c",
   "metadata": {},
   "outputs": [],
   "source": [
    "data_params = {\n",
    "    \"format\": \"json\",\n",
    "    \"per_page\": 500,\n",
    "    \"page\": 1\n",
    "}"
   ]
  },
  {
   "cell_type": "code",
   "execution_count": 18,
   "id": "812e64de-bda9-4ec2-8eec-6c99f9f67644",
   "metadata": {},
   "outputs": [
    {
     "name": "stdout",
     "output_type": "stream",
     "text": [
      "Number of pages: 35\n"
     ]
    }
   ],
   "source": [
    "data = requests.get(url, params=data_params)\n",
    "#This sends the request to the URL with the parameters you've set. The response will be saved in the data variable, which is a Response object.\n",
    "life_expectancy = data.json()\n",
    "#This parses the JSON response into a Python object (a list, in this case). \n",
    "all_pages = life_expectancy[0]['pages']\n",
    "#This accesses the first item in the response (life_expectancy[0]), which contains metadata like the total number of pages.\n",
    "print(\"Number of pages:\", all_pages)"
   ]
  },
  {
   "cell_type": "code",
   "execution_count": 19,
   "id": "08c8d3fc-2490-4cb5-bc97-5c4c4888feae",
   "metadata": {},
   "outputs": [],
   "source": [
    "le_data = []"
   ]
  },
  {
   "cell_type": "code",
   "execution_count": 20,
   "id": "aa5b3035-18ce-447e-8273-477cc8f93c4d",
   "metadata": {},
   "outputs": [],
   "source": [
    "for page in range(1, all_pages + 1):\n",
    "    data_params[\"page\"] = page \n",
    "    data = requests.get(url, params=data_params) \n",
    "    life_expectancy = data.json()  \n",
    "    le_data.extend(life_expectancy[1]) "
   ]
  },
  {
   "cell_type": "code",
   "execution_count": 21,
   "id": "98505ff8-1965-4684-80b9-7fad4052e406",
   "metadata": {},
   "outputs": [],
   "source": [
    "el_df = pd.DataFrame(le_data)"
   ]
  },
  {
   "cell_type": "code",
   "execution_count": 22,
   "id": "3e5bbc72-265c-494b-a817-7bafa8c98ce2",
   "metadata": {},
   "outputs": [
    {
     "data": {
      "text/html": [
       "<div>\n",
       "<style scoped>\n",
       "    .dataframe tbody tr th:only-of-type {\n",
       "        vertical-align: middle;\n",
       "    }\n",
       "\n",
       "    .dataframe tbody tr th {\n",
       "        vertical-align: top;\n",
       "    }\n",
       "\n",
       "    .dataframe thead th {\n",
       "        text-align: right;\n",
       "    }\n",
       "</style>\n",
       "<table border=\"1\" class=\"dataframe\">\n",
       "  <thead>\n",
       "    <tr style=\"text-align: right;\">\n",
       "      <th></th>\n",
       "      <th>indicator</th>\n",
       "      <th>country</th>\n",
       "      <th>countryiso3code</th>\n",
       "      <th>date</th>\n",
       "      <th>value</th>\n",
       "      <th>unit</th>\n",
       "      <th>obs_status</th>\n",
       "      <th>decimal</th>\n",
       "    </tr>\n",
       "  </thead>\n",
       "  <tbody>\n",
       "    <tr>\n",
       "      <th>0</th>\n",
       "      <td>{'id': 'SP.DYN.LE00.IN', 'value': 'Life expect...</td>\n",
       "      <td>{'id': 'ZH', 'value': 'Africa Eastern and Sout...</td>\n",
       "      <td>AFE</td>\n",
       "      <td>2023</td>\n",
       "      <td>NaN</td>\n",
       "      <td></td>\n",
       "      <td></td>\n",
       "      <td>0</td>\n",
       "    </tr>\n",
       "    <tr>\n",
       "      <th>1</th>\n",
       "      <td>{'id': 'SP.DYN.LE00.IN', 'value': 'Life expect...</td>\n",
       "      <td>{'id': 'ZH', 'value': 'Africa Eastern and Sout...</td>\n",
       "      <td>AFE</td>\n",
       "      <td>2022</td>\n",
       "      <td>62.888463</td>\n",
       "      <td></td>\n",
       "      <td></td>\n",
       "      <td>0</td>\n",
       "    </tr>\n",
       "    <tr>\n",
       "      <th>2</th>\n",
       "      <td>{'id': 'SP.DYN.LE00.IN', 'value': 'Life expect...</td>\n",
       "      <td>{'id': 'ZH', 'value': 'Africa Eastern and Sout...</td>\n",
       "      <td>AFE</td>\n",
       "      <td>2021</td>\n",
       "      <td>62.449093</td>\n",
       "      <td></td>\n",
       "      <td></td>\n",
       "      <td>0</td>\n",
       "    </tr>\n",
       "    <tr>\n",
       "      <th>3</th>\n",
       "      <td>{'id': 'SP.DYN.LE00.IN', 'value': 'Life expect...</td>\n",
       "      <td>{'id': 'ZH', 'value': 'Africa Eastern and Sout...</td>\n",
       "      <td>AFE</td>\n",
       "      <td>2020</td>\n",
       "      <td>63.309794</td>\n",
       "      <td></td>\n",
       "      <td></td>\n",
       "      <td>0</td>\n",
       "    </tr>\n",
       "    <tr>\n",
       "      <th>4</th>\n",
       "      <td>{'id': 'SP.DYN.LE00.IN', 'value': 'Life expect...</td>\n",
       "      <td>{'id': 'ZH', 'value': 'Africa Eastern and Sout...</td>\n",
       "      <td>AFE</td>\n",
       "      <td>2019</td>\n",
       "      <td>63.754752</td>\n",
       "      <td></td>\n",
       "      <td></td>\n",
       "      <td>0</td>\n",
       "    </tr>\n",
       "  </tbody>\n",
       "</table>\n",
       "</div>"
      ],
      "text/plain": [
       "                                           indicator  \\\n",
       "0  {'id': 'SP.DYN.LE00.IN', 'value': 'Life expect...   \n",
       "1  {'id': 'SP.DYN.LE00.IN', 'value': 'Life expect...   \n",
       "2  {'id': 'SP.DYN.LE00.IN', 'value': 'Life expect...   \n",
       "3  {'id': 'SP.DYN.LE00.IN', 'value': 'Life expect...   \n",
       "4  {'id': 'SP.DYN.LE00.IN', 'value': 'Life expect...   \n",
       "\n",
       "                                             country countryiso3code  date  \\\n",
       "0  {'id': 'ZH', 'value': 'Africa Eastern and Sout...             AFE  2023   \n",
       "1  {'id': 'ZH', 'value': 'Africa Eastern and Sout...             AFE  2022   \n",
       "2  {'id': 'ZH', 'value': 'Africa Eastern and Sout...             AFE  2021   \n",
       "3  {'id': 'ZH', 'value': 'Africa Eastern and Sout...             AFE  2020   \n",
       "4  {'id': 'ZH', 'value': 'Africa Eastern and Sout...             AFE  2019   \n",
       "\n",
       "       value unit obs_status  decimal  \n",
       "0        NaN                        0  \n",
       "1  62.888463                        0  \n",
       "2  62.449093                        0  \n",
       "3  63.309794                        0  \n",
       "4  63.754752                        0  "
      ]
     },
     "execution_count": 22,
     "metadata": {},
     "output_type": "execute_result"
    }
   ],
   "source": [
    "el_df.head()"
   ]
  },
  {
   "cell_type": "code",
   "execution_count": 23,
   "id": "aa4fd6ad-1d49-41c9-af54-4e38d5c11ec9",
   "metadata": {},
   "outputs": [
    {
     "name": "stdout",
     "output_type": "stream",
     "text": [
      "life_expectancy 17024\n"
     ]
    }
   ],
   "source": [
    "print(\"life_expectancy\", len(el_df))"
   ]
  },
  {
   "cell_type": "markdown",
   "id": "52869662-7cf2-45ab-a895-fc90ab2efe52",
   "metadata": {},
   "source": [
    "3. Merge the two results DataFrames together. You may want to rename or drop columns prior to merging."
   ]
  },
  {
   "cell_type": "code",
   "execution_count": 25,
   "id": "d604362b-d04f-4c85-b100-21d95e9fb1f4",
   "metadata": {},
   "outputs": [
    {
     "name": "stdout",
     "output_type": "stream",
     "text": [
      "Updated GDP DataFrame columns:\n",
      "Index(['gdp_indicator', 'country', 'countryiso3code', 'date', 'value', 'unit',\n",
      "       'obs_status', 'decimal'],\n",
      "      dtype='object')\n"
     ]
    }
   ],
   "source": [
    "df = df.rename(columns={'indicator': 'gdp_indicator'})\n",
    "print(\"Updated GDP DataFrame columns:\")\n",
    "print(df.columns)"
   ]
  },
  {
   "cell_type": "markdown",
   "id": "e06e2cd9-5f06-4ae5-84b3-8b0a35e8711d",
   "metadata": {},
   "source": [
    "The rename() method is renaming the column. indicator: gdp_indicator is a dictionary that specifies the exact column to rename and what name to give it in the argument. df = is assigning the result of the renaming back to df. I need to assign it back to the original df to store the changes after it is renamed."
   ]
  },
  {
   "cell_type": "code",
   "execution_count": 27,
   "id": "ced9e727-77e2-444f-825a-add78ae127b2",
   "metadata": {},
   "outputs": [
    {
     "name": "stdout",
     "output_type": "stream",
     "text": [
      "Updated life_expectancy DataFrame columns:\n",
      "Index(['life_expectancy_indicator', 'country', 'countryiso3code', 'date',\n",
      "       'value', 'unit', 'obs_status', 'decimal'],\n",
      "      dtype='object')\n"
     ]
    }
   ],
   "source": [
    "el_df = el_df.rename(columns={'indicator': 'life_expectancy_indicator'})\n",
    "print(\"Updated life_expectancy DataFrame columns:\")\n",
    "print(el_df.columns)"
   ]
  },
  {
   "cell_type": "code",
   "execution_count": 71,
   "id": "883cef19-7570-4a52-9121-589462b1f945",
   "metadata": {},
   "outputs": [],
   "source": [
    "df = df.rename(columns={'value': 'gdp_value'})"
   ]
  },
  {
   "cell_type": "code",
   "execution_count": 73,
   "id": "4a673016-13af-40d2-93f9-ee7d94e2eb7e",
   "metadata": {},
   "outputs": [],
   "source": [
    "el_df = el_df.rename(columns={'value': 'life_expectancy_value'})"
   ]
  },
  {
   "cell_type": "code",
   "execution_count": 75,
   "id": "1edf5f0e-e28a-4d6e-891d-e53619d654ba",
   "metadata": {},
   "outputs": [],
   "source": [
    "df = df.drop(columns=['unit', 'obs_status'], errors='ignore')"
   ]
  },
  {
   "cell_type": "code",
   "execution_count": 81,
   "id": "fb059fda-d0ce-4eb3-8d20-42764ef470be",
   "metadata": {},
   "outputs": [],
   "source": [
    "el_df = el_df.drop(columns=['unit', 'obs_status'], errors='ignore')"
   ]
  },
  {
   "cell_type": "code",
   "execution_count": 83,
   "id": "c234bf7d-12ac-42ee-ac99-8ddd61fba28c",
   "metadata": {},
   "outputs": [
    {
     "data": {
      "text/html": [
       "<div>\n",
       "<style scoped>\n",
       "    .dataframe tbody tr th:only-of-type {\n",
       "        vertical-align: middle;\n",
       "    }\n",
       "\n",
       "    .dataframe tbody tr th {\n",
       "        vertical-align: top;\n",
       "    }\n",
       "\n",
       "    .dataframe thead th {\n",
       "        text-align: right;\n",
       "    }\n",
       "</style>\n",
       "<table border=\"1\" class=\"dataframe\">\n",
       "  <thead>\n",
       "    <tr style=\"text-align: right;\">\n",
       "      <th></th>\n",
       "      <th>life_expectancy_indicator</th>\n",
       "      <th>country</th>\n",
       "      <th>countryiso3code</th>\n",
       "      <th>date</th>\n",
       "      <th>life_expectancy_value</th>\n",
       "      <th>decimal</th>\n",
       "    </tr>\n",
       "  </thead>\n",
       "  <tbody>\n",
       "    <tr>\n",
       "      <th>0</th>\n",
       "      <td>{'id': 'SP.DYN.LE00.IN', 'value': 'Life expect...</td>\n",
       "      <td>{'id': 'ZH', 'value': 'Africa Eastern and Sout...</td>\n",
       "      <td>AFE</td>\n",
       "      <td>2023</td>\n",
       "      <td>NaN</td>\n",
       "      <td>0</td>\n",
       "    </tr>\n",
       "    <tr>\n",
       "      <th>1</th>\n",
       "      <td>{'id': 'SP.DYN.LE00.IN', 'value': 'Life expect...</td>\n",
       "      <td>{'id': 'ZH', 'value': 'Africa Eastern and Sout...</td>\n",
       "      <td>AFE</td>\n",
       "      <td>2022</td>\n",
       "      <td>62.888463</td>\n",
       "      <td>0</td>\n",
       "    </tr>\n",
       "    <tr>\n",
       "      <th>2</th>\n",
       "      <td>{'id': 'SP.DYN.LE00.IN', 'value': 'Life expect...</td>\n",
       "      <td>{'id': 'ZH', 'value': 'Africa Eastern and Sout...</td>\n",
       "      <td>AFE</td>\n",
       "      <td>2021</td>\n",
       "      <td>62.449093</td>\n",
       "      <td>0</td>\n",
       "    </tr>\n",
       "    <tr>\n",
       "      <th>3</th>\n",
       "      <td>{'id': 'SP.DYN.LE00.IN', 'value': 'Life expect...</td>\n",
       "      <td>{'id': 'ZH', 'value': 'Africa Eastern and Sout...</td>\n",
       "      <td>AFE</td>\n",
       "      <td>2020</td>\n",
       "      <td>63.309794</td>\n",
       "      <td>0</td>\n",
       "    </tr>\n",
       "    <tr>\n",
       "      <th>4</th>\n",
       "      <td>{'id': 'SP.DYN.LE00.IN', 'value': 'Life expect...</td>\n",
       "      <td>{'id': 'ZH', 'value': 'Africa Eastern and Sout...</td>\n",
       "      <td>AFE</td>\n",
       "      <td>2019</td>\n",
       "      <td>63.754752</td>\n",
       "      <td>0</td>\n",
       "    </tr>\n",
       "  </tbody>\n",
       "</table>\n",
       "</div>"
      ],
      "text/plain": [
       "                           life_expectancy_indicator  \\\n",
       "0  {'id': 'SP.DYN.LE00.IN', 'value': 'Life expect...   \n",
       "1  {'id': 'SP.DYN.LE00.IN', 'value': 'Life expect...   \n",
       "2  {'id': 'SP.DYN.LE00.IN', 'value': 'Life expect...   \n",
       "3  {'id': 'SP.DYN.LE00.IN', 'value': 'Life expect...   \n",
       "4  {'id': 'SP.DYN.LE00.IN', 'value': 'Life expect...   \n",
       "\n",
       "                                             country countryiso3code  date  \\\n",
       "0  {'id': 'ZH', 'value': 'Africa Eastern and Sout...             AFE  2023   \n",
       "1  {'id': 'ZH', 'value': 'Africa Eastern and Sout...             AFE  2022   \n",
       "2  {'id': 'ZH', 'value': 'Africa Eastern and Sout...             AFE  2021   \n",
       "3  {'id': 'ZH', 'value': 'Africa Eastern and Sout...             AFE  2020   \n",
       "4  {'id': 'ZH', 'value': 'Africa Eastern and Sout...             AFE  2019   \n",
       "\n",
       "   life_expectancy_value  decimal  \n",
       "0                    NaN        0  \n",
       "1              62.888463        0  \n",
       "2              62.449093        0  \n",
       "3              63.309794        0  \n",
       "4              63.754752        0  "
      ]
     },
     "execution_count": 83,
     "metadata": {},
     "output_type": "execute_result"
    }
   ],
   "source": [
    "el_df.head()"
   ]
  },
  {
   "cell_type": "code",
   "execution_count": 334,
   "id": "bf84fe34-f19d-4186-a894-7ccbc77b3d31",
   "metadata": {},
   "outputs": [],
   "source": [
    "df['country'] = df['country'].astype(str)\n",
    "df['countryiso3code'] = df['countryiso3code'].astype(str)\n",
    "df['date'] = df['date'].astype(str)"
   ]
  },
  {
   "cell_type": "code",
   "execution_count": 336,
   "id": "13587f16-fe84-43d8-8d67-bc9cf61f0b53",
   "metadata": {
    "scrolled": true
   },
   "outputs": [],
   "source": [
    "el_df['country'] = el_df['country'].astype(str)\n",
    "el_df['countryiso3code'] = el_df['countryiso3code'].astype(str)\n",
    "el_df['date'] = el_df['date'].astype(str)"
   ]
  },
  {
   "cell_type": "markdown",
   "id": "9e882b75-644a-493b-be52-22b40ece497f",
   "metadata": {},
   "source": [
    "I needed to make sure every value in the date column is a string, so it plays nice when merging with other DataFrames that also have string dates."
   ]
  },
  {
   "cell_type": "code",
   "execution_count": 338,
   "id": "0a974d26-15aa-4446-ae10-7c2ab028f5a5",
   "metadata": {},
   "outputs": [],
   "source": [
    "merged_df = pd.merge(df, el_df, on=['country', 'countryiso3code', 'date'], how='inner')"
   ]
  },
  {
   "cell_type": "code",
   "execution_count": 109,
   "id": "8b0b6f79-f4e3-44ea-b59a-d3dffcd7c79f",
   "metadata": {},
   "outputs": [
    {
     "data": {
      "text/html": [
       "<div>\n",
       "<style scoped>\n",
       "    .dataframe tbody tr th:only-of-type {\n",
       "        vertical-align: middle;\n",
       "    }\n",
       "\n",
       "    .dataframe tbody tr th {\n",
       "        vertical-align: top;\n",
       "    }\n",
       "\n",
       "    .dataframe thead th {\n",
       "        text-align: right;\n",
       "    }\n",
       "</style>\n",
       "<table border=\"1\" class=\"dataframe\">\n",
       "  <thead>\n",
       "    <tr style=\"text-align: right;\">\n",
       "      <th></th>\n",
       "      <th>gdp_indicator</th>\n",
       "      <th>country</th>\n",
       "      <th>countryiso3code</th>\n",
       "      <th>date</th>\n",
       "      <th>gdp_value</th>\n",
       "      <th>decimal_x</th>\n",
       "      <th>life_expectancy_indicator</th>\n",
       "      <th>life_expectancy_value</th>\n",
       "      <th>decimal_y</th>\n",
       "    </tr>\n",
       "  </thead>\n",
       "  <tbody>\n",
       "    <tr>\n",
       "      <th>0</th>\n",
       "      <td>{'id': 'NY.GDP.PCAP.PP.KD', 'value': 'GDP per ...</td>\n",
       "      <td>{'id': 'ZH', 'value': 'Africa Eastern and Sout...</td>\n",
       "      <td>AFE</td>\n",
       "      <td>2023</td>\n",
       "      <td>3967.860937</td>\n",
       "      <td>0</td>\n",
       "      <td>{'id': 'SP.DYN.LE00.IN', 'value': 'Life expect...</td>\n",
       "      <td>NaN</td>\n",
       "      <td>0</td>\n",
       "    </tr>\n",
       "    <tr>\n",
       "      <th>1</th>\n",
       "      <td>{'id': 'NY.GDP.PCAP.PP.KD', 'value': 'GDP per ...</td>\n",
       "      <td>{'id': 'ZH', 'value': 'Africa Eastern and Sout...</td>\n",
       "      <td>AFE</td>\n",
       "      <td>2022</td>\n",
       "      <td>3974.803045</td>\n",
       "      <td>0</td>\n",
       "      <td>{'id': 'SP.DYN.LE00.IN', 'value': 'Life expect...</td>\n",
       "      <td>62.888463</td>\n",
       "      <td>0</td>\n",
       "    </tr>\n",
       "    <tr>\n",
       "      <th>2</th>\n",
       "      <td>{'id': 'NY.GDP.PCAP.PP.KD', 'value': 'GDP per ...</td>\n",
       "      <td>{'id': 'ZH', 'value': 'Africa Eastern and Sout...</td>\n",
       "      <td>AFE</td>\n",
       "      <td>2021</td>\n",
       "      <td>3934.287267</td>\n",
       "      <td>0</td>\n",
       "      <td>{'id': 'SP.DYN.LE00.IN', 'value': 'Life expect...</td>\n",
       "      <td>62.449093</td>\n",
       "      <td>0</td>\n",
       "    </tr>\n",
       "    <tr>\n",
       "      <th>3</th>\n",
       "      <td>{'id': 'NY.GDP.PCAP.PP.KD', 'value': 'GDP per ...</td>\n",
       "      <td>{'id': 'ZH', 'value': 'Africa Eastern and Sout...</td>\n",
       "      <td>AFE</td>\n",
       "      <td>2020</td>\n",
       "      <td>3861.111238</td>\n",
       "      <td>0</td>\n",
       "      <td>{'id': 'SP.DYN.LE00.IN', 'value': 'Life expect...</td>\n",
       "      <td>63.309794</td>\n",
       "      <td>0</td>\n",
       "    </tr>\n",
       "    <tr>\n",
       "      <th>4</th>\n",
       "      <td>{'id': 'NY.GDP.PCAP.PP.KD', 'value': 'GDP per ...</td>\n",
       "      <td>{'id': 'ZH', 'value': 'Africa Eastern and Sout...</td>\n",
       "      <td>AFE</td>\n",
       "      <td>2019</td>\n",
       "      <td>4073.880522</td>\n",
       "      <td>0</td>\n",
       "      <td>{'id': 'SP.DYN.LE00.IN', 'value': 'Life expect...</td>\n",
       "      <td>63.754752</td>\n",
       "      <td>0</td>\n",
       "    </tr>\n",
       "  </tbody>\n",
       "</table>\n",
       "</div>"
      ],
      "text/plain": [
       "                                       gdp_indicator  \\\n",
       "0  {'id': 'NY.GDP.PCAP.PP.KD', 'value': 'GDP per ...   \n",
       "1  {'id': 'NY.GDP.PCAP.PP.KD', 'value': 'GDP per ...   \n",
       "2  {'id': 'NY.GDP.PCAP.PP.KD', 'value': 'GDP per ...   \n",
       "3  {'id': 'NY.GDP.PCAP.PP.KD', 'value': 'GDP per ...   \n",
       "4  {'id': 'NY.GDP.PCAP.PP.KD', 'value': 'GDP per ...   \n",
       "\n",
       "                                             country countryiso3code  date  \\\n",
       "0  {'id': 'ZH', 'value': 'Africa Eastern and Sout...             AFE  2023   \n",
       "1  {'id': 'ZH', 'value': 'Africa Eastern and Sout...             AFE  2022   \n",
       "2  {'id': 'ZH', 'value': 'Africa Eastern and Sout...             AFE  2021   \n",
       "3  {'id': 'ZH', 'value': 'Africa Eastern and Sout...             AFE  2020   \n",
       "4  {'id': 'ZH', 'value': 'Africa Eastern and Sout...             AFE  2019   \n",
       "\n",
       "     gdp_value  decimal_x                          life_expectancy_indicator  \\\n",
       "0  3967.860937          0  {'id': 'SP.DYN.LE00.IN', 'value': 'Life expect...   \n",
       "1  3974.803045          0  {'id': 'SP.DYN.LE00.IN', 'value': 'Life expect...   \n",
       "2  3934.287267          0  {'id': 'SP.DYN.LE00.IN', 'value': 'Life expect...   \n",
       "3  3861.111238          0  {'id': 'SP.DYN.LE00.IN', 'value': 'Life expect...   \n",
       "4  4073.880522          0  {'id': 'SP.DYN.LE00.IN', 'value': 'Life expect...   \n",
       "\n",
       "   life_expectancy_value  decimal_y  \n",
       "0                    NaN          0  \n",
       "1              62.888463          0  \n",
       "2              62.449093          0  \n",
       "3              63.309794          0  \n",
       "4              63.754752          0  "
      ]
     },
     "execution_count": 109,
     "metadata": {},
     "output_type": "execute_result"
    }
   ],
   "source": [
    "merged_df.head()"
   ]
  },
  {
   "cell_type": "markdown",
   "id": "9aeff261-292f-49cb-9d55-70d613f2eec8",
   "metadata": {},
   "source": [
    "3.You can also get more information about the available countries (region, capital city, income level classification, etc.) by using the Country API. Use this API to pull in all available data. Merge this with your other datasets. Use this to now remove the rows that correspond to regions and not countries."
   ]
  },
  {
   "cell_type": "code",
   "execution_count": 275,
   "id": "559bceb9-b43b-467b-a628-1522801aef3b",
   "metadata": {},
   "outputs": [],
   "source": [
    "url = \"https://api.worldbank.org/v2/country\""
   ]
  },
  {
   "cell_type": "code",
   "execution_count": 283,
   "id": "d11a97fb-5e5a-4aee-b969-6be8c12e2cbc",
   "metadata": {},
   "outputs": [],
   "source": [
    "base_params = {\n",
    "    \"format\": \"json\",\n",
    "    \"per_page\": 500,  \n",
    "    \"page\": 1  \n",
    "}"
   ]
  },
  {
   "cell_type": "code",
   "execution_count": 285,
   "id": "b74fa0e6-f8c7-466c-81ed-1bb6596ef2f0",
   "metadata": {},
   "outputs": [],
   "source": [
    "response = requests.get(url, params=base_params)\n",
    "data = response.json()"
   ]
  },
  {
   "cell_type": "code",
   "execution_count": 287,
   "id": "7d4dad46-4ca4-4968-a078-d7a5ee7daa1b",
   "metadata": {},
   "outputs": [],
   "source": [
    "country_data_df = pd.DataFrame(data[1])"
   ]
  },
  {
   "cell_type": "code",
   "execution_count": 301,
   "id": "430ea77c-b052-4930-a33d-f75d23ade082",
   "metadata": {},
   "outputs": [],
   "source": [
    "country_data_df = country_data_df.drop(columns=[col for col in ['region', 'adminregion'] if col in country_data_df.columns])\n"
   ]
  },
  {
   "cell_type": "code",
   "execution_count": 303,
   "id": "df19c8e6-ee1d-4c13-8d11-c67376315c5a",
   "metadata": {},
   "outputs": [
    {
     "name": "stdout",
     "output_type": "stream",
     "text": [
      "Total records after dropping regions: 217\n"
     ]
    }
   ],
   "source": [
    "print(\"Total records after dropping regions:\", len(country_data_df))"
   ]
  },
  {
   "cell_type": "code",
   "execution_count": 307,
   "id": "633a5a44-30e1-4f57-96cd-c09ed66abad9",
   "metadata": {},
   "outputs": [
    {
     "data": {
      "text/html": [
       "<div>\n",
       "<style scoped>\n",
       "    .dataframe tbody tr th:only-of-type {\n",
       "        vertical-align: middle;\n",
       "    }\n",
       "\n",
       "    .dataframe tbody tr th {\n",
       "        vertical-align: top;\n",
       "    }\n",
       "\n",
       "    .dataframe thead th {\n",
       "        text-align: right;\n",
       "    }\n",
       "</style>\n",
       "<table border=\"1\" class=\"dataframe\">\n",
       "  <thead>\n",
       "    <tr style=\"text-align: right;\">\n",
       "      <th></th>\n",
       "      <th>id</th>\n",
       "      <th>iso2Code</th>\n",
       "      <th>name</th>\n",
       "      <th>incomeLevel</th>\n",
       "      <th>lendingType</th>\n",
       "      <th>capitalCity</th>\n",
       "      <th>longitude</th>\n",
       "      <th>latitude</th>\n",
       "    </tr>\n",
       "  </thead>\n",
       "  <tbody>\n",
       "    <tr>\n",
       "      <th>0</th>\n",
       "      <td>ABW</td>\n",
       "      <td>AW</td>\n",
       "      <td>Aruba</td>\n",
       "      <td>{'id': 'HIC', 'iso2code': 'XD', 'value': 'High...</td>\n",
       "      <td>{'id': 'LNX', 'iso2code': 'XX', 'value': 'Not ...</td>\n",
       "      <td>Oranjestad</td>\n",
       "      <td>-70.0167</td>\n",
       "      <td>12.5167</td>\n",
       "    </tr>\n",
       "    <tr>\n",
       "      <th>2</th>\n",
       "      <td>AFG</td>\n",
       "      <td>AF</td>\n",
       "      <td>Afghanistan</td>\n",
       "      <td>{'id': 'LIC', 'iso2code': 'XM', 'value': 'Low ...</td>\n",
       "      <td>{'id': 'IDX', 'iso2code': 'XI', 'value': 'IDA'}</td>\n",
       "      <td>Kabul</td>\n",
       "      <td>69.1761</td>\n",
       "      <td>34.5228</td>\n",
       "    </tr>\n",
       "    <tr>\n",
       "      <th>5</th>\n",
       "      <td>AGO</td>\n",
       "      <td>AO</td>\n",
       "      <td>Angola</td>\n",
       "      <td>{'id': 'LMC', 'iso2code': 'XN', 'value': 'Lowe...</td>\n",
       "      <td>{'id': 'IBD', 'iso2code': 'XF', 'value': 'IBRD'}</td>\n",
       "      <td>Luanda</td>\n",
       "      <td>13.242</td>\n",
       "      <td>-8.81155</td>\n",
       "    </tr>\n",
       "    <tr>\n",
       "      <th>6</th>\n",
       "      <td>ALB</td>\n",
       "      <td>AL</td>\n",
       "      <td>Albania</td>\n",
       "      <td>{'id': 'UMC', 'iso2code': 'XT', 'value': 'Uppe...</td>\n",
       "      <td>{'id': 'IBD', 'iso2code': 'XF', 'value': 'IBRD'}</td>\n",
       "      <td>Tirane</td>\n",
       "      <td>19.8172</td>\n",
       "      <td>41.3317</td>\n",
       "    </tr>\n",
       "    <tr>\n",
       "      <th>7</th>\n",
       "      <td>AND</td>\n",
       "      <td>AD</td>\n",
       "      <td>Andorra</td>\n",
       "      <td>{'id': 'HIC', 'iso2code': 'XD', 'value': 'High...</td>\n",
       "      <td>{'id': 'LNX', 'iso2code': 'XX', 'value': 'Not ...</td>\n",
       "      <td>Andorra la Vella</td>\n",
       "      <td>1.5218</td>\n",
       "      <td>42.5075</td>\n",
       "    </tr>\n",
       "  </tbody>\n",
       "</table>\n",
       "</div>"
      ],
      "text/plain": [
       "    id iso2Code         name  \\\n",
       "0  ABW       AW        Aruba   \n",
       "2  AFG       AF  Afghanistan   \n",
       "5  AGO       AO       Angola   \n",
       "6  ALB       AL      Albania   \n",
       "7  AND       AD      Andorra   \n",
       "\n",
       "                                         incomeLevel  \\\n",
       "0  {'id': 'HIC', 'iso2code': 'XD', 'value': 'High...   \n",
       "2  {'id': 'LIC', 'iso2code': 'XM', 'value': 'Low ...   \n",
       "5  {'id': 'LMC', 'iso2code': 'XN', 'value': 'Lowe...   \n",
       "6  {'id': 'UMC', 'iso2code': 'XT', 'value': 'Uppe...   \n",
       "7  {'id': 'HIC', 'iso2code': 'XD', 'value': 'High...   \n",
       "\n",
       "                                         lendingType       capitalCity  \\\n",
       "0  {'id': 'LNX', 'iso2code': 'XX', 'value': 'Not ...        Oranjestad   \n",
       "2    {'id': 'IDX', 'iso2code': 'XI', 'value': 'IDA'}             Kabul   \n",
       "5   {'id': 'IBD', 'iso2code': 'XF', 'value': 'IBRD'}            Luanda   \n",
       "6   {'id': 'IBD', 'iso2code': 'XF', 'value': 'IBRD'}            Tirane   \n",
       "7  {'id': 'LNX', 'iso2code': 'XX', 'value': 'Not ...  Andorra la Vella   \n",
       "\n",
       "  longitude  latitude  \n",
       "0  -70.0167   12.5167  \n",
       "2   69.1761   34.5228  \n",
       "5    13.242  -8.81155  \n",
       "6   19.8172   41.3317  \n",
       "7    1.5218   42.5075  "
      ]
     },
     "execution_count": 307,
     "metadata": {},
     "output_type": "execute_result"
    }
   ],
   "source": [
    "country_data_df.head()"
   ]
  },
  {
   "cell_type": "markdown",
   "id": "2a626fc1-a810-4810-b809-5c3a4eb24a54",
   "metadata": {},
   "source": [
    "I tried really hard to find a way to merge the country_data_df, but was unsuccessful today. I may need to take a break from this today so I can rethink this tomorrow. My brain is tired."
   ]
  },
  {
   "cell_type": "code",
   "execution_count": null,
   "id": "0b6ecf10-5fa2-4bf2-b779-248454f95f95",
   "metadata": {},
   "outputs": [],
   "source": []
  }
 ],
 "metadata": {
  "kernelspec": {
   "display_name": "Python [conda env:base] *",
   "language": "python",
   "name": "conda-base-py"
  },
  "language_info": {
   "codemirror_mode": {
    "name": "ipython",
    "version": 3
   },
   "file_extension": ".py",
   "mimetype": "text/x-python",
   "name": "python",
   "nbconvert_exporter": "python",
   "pygments_lexer": "ipython3",
   "version": "3.12.7"
  }
 },
 "nbformat": 4,
 "nbformat_minor": 5
}
