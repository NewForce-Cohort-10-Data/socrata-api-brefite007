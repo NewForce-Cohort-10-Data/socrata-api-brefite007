{
 "cells": [
  {
   "cell_type": "markdown",
   "id": "54b94b25-71ef-4775-b7bd-eedec9974c14",
   "metadata": {},
   "source": [
    "Use the API to get all available data for the GDP per capita, PPP (constant 2017 international $) indicator. Hint: this indicator has code \"NY.GDP.PCAP.PP.KD\". Adjust the query parameters so that you can retrieve all available rows. Convert the results to a DataFrame."
   ]
  },
  {
   "cell_type": "code",
   "execution_count": 21,
   "id": "ee1e3c8c-feee-4f20-9185-7ebbe93039fb",
   "metadata": {},
   "outputs": [],
   "source": [
    "import requests"
   ]
  },
  {
   "cell_type": "code",
   "execution_count": 52,
   "id": "a97b7c2f-c54b-44a0-938f-323cd2cf23c8",
   "metadata": {},
   "outputs": [],
   "source": [
    "import pandas as pd"
   ]
  },
  {
   "cell_type": "code",
   "execution_count": 23,
   "id": "470538c5-5d0a-48c4-9f1f-e14f0b4cca28",
   "metadata": {},
   "outputs": [],
   "source": [
    "url = \"http://api.worldbank.org/v2/country/all/indicator/NY.GDP.PCAP.PP.KD\""
   ]
  },
  {
   "cell_type": "code",
   "execution_count": 35,
   "id": "78614d0f-92c6-4146-aee2-2838cc858a0f",
   "metadata": {},
   "outputs": [],
   "source": [
    "base_params = {\n",
    "    \"format\": \"json\",\n",
    "    \"per_page\": 500,\n",
    "    \"page\": 1\n",
    "}"
   ]
  },
  {
   "cell_type": "markdown",
   "id": "3e21c25d-ed4b-415f-b9aa-042072503469",
   "metadata": {},
   "source": [
    "Makes the first API call to get the total number of pages from the metadata. base_params: This is a dictionary that contains the parameters that the API needs in order to fulfill the request."
   ]
  },
  {
   "cell_type": "code",
   "execution_count": 62,
   "id": "d68cd91c-ab3a-4b4d-a7e2-39f64e58adfd",
   "metadata": {},
   "outputs": [
    {
     "name": "stdout",
     "output_type": "stream",
     "text": [
      "Total number of pages: 35\n"
     ]
    }
   ],
   "source": [
    "response = requests.get(url, params=base_params)\n",
    "data = response.json()\n",
    "total_pages = data[0]['pages']\n",
    "print(\"Total number of pages:\", total_pages)"
   ]
  },
  {
   "cell_type": "markdown",
   "id": "db9745e6-4eb8-4cb6-879e-58b647ed436d",
   "metadata": {},
   "source": [
    "data[0]: The first item in the list. 'pages': uses the key 'pages' to retrieve the corresponding value, which is the total number of pages. "
   ]
  },
  {
   "cell_type": "code",
   "execution_count": 64,
   "id": "27c38c91-21b0-4a09-abfa-b09351706f7f",
   "metadata": {},
   "outputs": [],
   "source": [
    "all_data = []"
   ]
  },
  {
   "cell_type": "code",
   "execution_count": 66,
   "id": "df1142b4-0a76-4412-a1c2-493c2b683bba",
   "metadata": {},
   "outputs": [],
   "source": [
    "for page in range(1, total_pages + 1):\n",
    "    params = {\n",
    "        \"format\": \"json\",\n",
    "        \"per_page\": 500,\n",
    "        \"page\": page\n",
    "    }\n",
    "    response = requests.get(url, params=params)\n",
    "    data = response.json()\n",
    "    all_data.extend(data[1]) "
   ]
  },
  {
   "cell_type": "markdown",
   "id": "64a5a6a9-c27e-4fcd-9249-e2b64915c7be",
   "metadata": {},
   "source": [
    "The range() method -starts a loop from page 1 to page 35. The +1 is there because range() in Python is exclusive on the upper end. The params paginates the information per page.The extend() method takes that list and adds each individual record from data[1] to the all_data list.  The extend() method is used to avoid having nested lists and to keep all_data as a flat list of individual records."
   ]
  },
  {
   "cell_type": "code",
   "execution_count": 67,
   "id": "ef415698-464c-47fa-8002-48947598d2ce",
   "metadata": {
    "scrolled": true
   },
   "outputs": [
    {
     "name": "stdout",
     "output_type": "stream",
     "text": [
      "Total records retrieved: 17024\n"
     ]
    }
   ],
   "source": [
    "df = pd.DataFrame(all_data)\n",
    "print(\"Total records retrieved:\", len(df))"
   ]
  },
  {
   "cell_type": "markdown",
   "id": "f02317e1-aa7b-4054-b982-f282f91bf057",
   "metadata": {},
   "source": [
    " Total records retrieved is a string used in the print() function to describe what is showing."
   ]
  },
  {
   "cell_type": "code",
   "execution_count": 76,
   "id": "ed127912-9c7c-4cd2-8d43-dd68c7740921",
   "metadata": {},
   "outputs": [
    {
     "data": {
      "text/html": [
       "<div>\n",
       "<style scoped>\n",
       "    .dataframe tbody tr th:only-of-type {\n",
       "        vertical-align: middle;\n",
       "    }\n",
       "\n",
       "    .dataframe tbody tr th {\n",
       "        vertical-align: top;\n",
       "    }\n",
       "\n",
       "    .dataframe thead th {\n",
       "        text-align: right;\n",
       "    }\n",
       "</style>\n",
       "<table border=\"1\" class=\"dataframe\">\n",
       "  <thead>\n",
       "    <tr style=\"text-align: right;\">\n",
       "      <th></th>\n",
       "      <th>indicator</th>\n",
       "      <th>country</th>\n",
       "      <th>countryiso3code</th>\n",
       "      <th>date</th>\n",
       "      <th>value</th>\n",
       "      <th>unit</th>\n",
       "      <th>obs_status</th>\n",
       "      <th>decimal</th>\n",
       "    </tr>\n",
       "  </thead>\n",
       "  <tbody>\n",
       "    <tr>\n",
       "      <th>0</th>\n",
       "      <td>{'id': 'NY.GDP.PCAP.PP.KD', 'value': 'GDP per ...</td>\n",
       "      <td>{'id': 'ZH', 'value': 'Africa Eastern and Sout...</td>\n",
       "      <td>AFE</td>\n",
       "      <td>2023</td>\n",
       "      <td>3967.860937</td>\n",
       "      <td></td>\n",
       "      <td></td>\n",
       "      <td>0</td>\n",
       "    </tr>\n",
       "    <tr>\n",
       "      <th>1</th>\n",
       "      <td>{'id': 'NY.GDP.PCAP.PP.KD', 'value': 'GDP per ...</td>\n",
       "      <td>{'id': 'ZH', 'value': 'Africa Eastern and Sout...</td>\n",
       "      <td>AFE</td>\n",
       "      <td>2022</td>\n",
       "      <td>3974.803045</td>\n",
       "      <td></td>\n",
       "      <td></td>\n",
       "      <td>0</td>\n",
       "    </tr>\n",
       "    <tr>\n",
       "      <th>2</th>\n",
       "      <td>{'id': 'NY.GDP.PCAP.PP.KD', 'value': 'GDP per ...</td>\n",
       "      <td>{'id': 'ZH', 'value': 'Africa Eastern and Sout...</td>\n",
       "      <td>AFE</td>\n",
       "      <td>2021</td>\n",
       "      <td>3934.287267</td>\n",
       "      <td></td>\n",
       "      <td></td>\n",
       "      <td>0</td>\n",
       "    </tr>\n",
       "    <tr>\n",
       "      <th>3</th>\n",
       "      <td>{'id': 'NY.GDP.PCAP.PP.KD', 'value': 'GDP per ...</td>\n",
       "      <td>{'id': 'ZH', 'value': 'Africa Eastern and Sout...</td>\n",
       "      <td>AFE</td>\n",
       "      <td>2020</td>\n",
       "      <td>3861.111238</td>\n",
       "      <td></td>\n",
       "      <td></td>\n",
       "      <td>0</td>\n",
       "    </tr>\n",
       "    <tr>\n",
       "      <th>4</th>\n",
       "      <td>{'id': 'NY.GDP.PCAP.PP.KD', 'value': 'GDP per ...</td>\n",
       "      <td>{'id': 'ZH', 'value': 'Africa Eastern and Sout...</td>\n",
       "      <td>AFE</td>\n",
       "      <td>2019</td>\n",
       "      <td>4073.880522</td>\n",
       "      <td></td>\n",
       "      <td></td>\n",
       "      <td>0</td>\n",
       "    </tr>\n",
       "  </tbody>\n",
       "</table>\n",
       "</div>"
      ],
      "text/plain": [
       "                                           indicator  \\\n",
       "0  {'id': 'NY.GDP.PCAP.PP.KD', 'value': 'GDP per ...   \n",
       "1  {'id': 'NY.GDP.PCAP.PP.KD', 'value': 'GDP per ...   \n",
       "2  {'id': 'NY.GDP.PCAP.PP.KD', 'value': 'GDP per ...   \n",
       "3  {'id': 'NY.GDP.PCAP.PP.KD', 'value': 'GDP per ...   \n",
       "4  {'id': 'NY.GDP.PCAP.PP.KD', 'value': 'GDP per ...   \n",
       "\n",
       "                                             country countryiso3code  date  \\\n",
       "0  {'id': 'ZH', 'value': 'Africa Eastern and Sout...             AFE  2023   \n",
       "1  {'id': 'ZH', 'value': 'Africa Eastern and Sout...             AFE  2022   \n",
       "2  {'id': 'ZH', 'value': 'Africa Eastern and Sout...             AFE  2021   \n",
       "3  {'id': 'ZH', 'value': 'Africa Eastern and Sout...             AFE  2020   \n",
       "4  {'id': 'ZH', 'value': 'Africa Eastern and Sout...             AFE  2019   \n",
       "\n",
       "         value unit obs_status  decimal  \n",
       "0  3967.860937                        0  \n",
       "1  3974.803045                        0  \n",
       "2  3934.287267                        0  \n",
       "3  3861.111238                        0  \n",
       "4  4073.880522                        0  "
      ]
     },
     "execution_count": 76,
     "metadata": {},
     "output_type": "execute_result"
    }
   ],
   "source": [
    "df.head()"
   ]
  },
  {
   "cell_type": "markdown",
   "id": "1beb40dd-03fc-4f97-acbf-6b297b386bbe",
   "metadata": {},
   "source": [
    "2. API is used to get all available data for Life expectancy at birth, total (years). "
   ]
  },
  {
   "cell_type": "code",
   "execution_count": 149,
   "id": "b7373c92-91ea-4ab8-8fd6-c1dd5042aafd",
   "metadata": {},
   "outputs": [],
   "source": [
    "url = \"http://api.worldbank.org/v2/country/all/indicator/SP.DYN.LE00.IN\""
   ]
  },
  {
   "cell_type": "code",
   "execution_count": 151,
   "id": "9891550f-0b7a-44b6-8088-ab2a6bdbec7c",
   "metadata": {},
   "outputs": [],
   "source": [
    "data_params = {\n",
    "    \"format\": \"json\",\n",
    "    \"per_page\": 500,\n",
    "    \"page\": 1\n",
    "}"
   ]
  },
  {
   "cell_type": "code",
   "execution_count": 105,
   "id": "812e64de-bda9-4ec2-8eec-6c99f9f67644",
   "metadata": {},
   "outputs": [
    {
     "name": "stdout",
     "output_type": "stream",
     "text": [
      "Number of pages: 35\n"
     ]
    }
   ],
   "source": [
    "data = requests.get(url, params=data_params)\n",
    "#This sends the request to the URL with the parameters you've set. The response will be saved in the data variable, which is a Response object.\n",
    "life_expectancy = data.json()\n",
    "#This parses the JSON response into a Python object (a list, in this case). \n",
    "all_pages = life_expectancy[0]['pages']\n",
    "#This accesses the first item in the response (life_expectancy[0]), which contains metadata like the total number of pages.\n",
    "print(\"Number of pages:\", all_pages)"
   ]
  },
  {
   "cell_type": "code",
   "execution_count": 111,
   "id": "08c8d3fc-2490-4cb5-bc97-5c4c4888feae",
   "metadata": {},
   "outputs": [],
   "source": [
    "le_data = []"
   ]
  },
  {
   "cell_type": "code",
   "execution_count": 115,
   "id": "aa5b3035-18ce-447e-8273-477cc8f93c4d",
   "metadata": {},
   "outputs": [],
   "source": [
    "for page in range(1, all_pages + 1):\n",
    "    data_params[\"page\"] = page \n",
    "    data = requests.get(url, params=data_params) \n",
    "    life_expectancy = data.json()  \n",
    "    le_data.extend(life_expectancy[1]) "
   ]
  },
  {
   "cell_type": "code",
   "execution_count": 129,
   "id": "98505ff8-1965-4684-80b9-7fad4052e406",
   "metadata": {},
   "outputs": [],
   "source": [
    "el_df = pd.DataFrame(le_data)"
   ]
  },
  {
   "cell_type": "code",
   "execution_count": 167,
   "id": "3e5bbc72-265c-494b-a817-7bafa8c98ce2",
   "metadata": {},
   "outputs": [
    {
     "data": {
      "text/html": [
       "<div>\n",
       "<style scoped>\n",
       "    .dataframe tbody tr th:only-of-type {\n",
       "        vertical-align: middle;\n",
       "    }\n",
       "\n",
       "    .dataframe tbody tr th {\n",
       "        vertical-align: top;\n",
       "    }\n",
       "\n",
       "    .dataframe thead th {\n",
       "        text-align: right;\n",
       "    }\n",
       "</style>\n",
       "<table border=\"1\" class=\"dataframe\">\n",
       "  <thead>\n",
       "    <tr style=\"text-align: right;\">\n",
       "      <th></th>\n",
       "      <th>indicator</th>\n",
       "      <th>country</th>\n",
       "      <th>countryiso3code</th>\n",
       "      <th>date</th>\n",
       "      <th>value</th>\n",
       "      <th>unit</th>\n",
       "      <th>obs_status</th>\n",
       "      <th>decimal</th>\n",
       "    </tr>\n",
       "  </thead>\n",
       "  <tbody>\n",
       "    <tr>\n",
       "      <th>0</th>\n",
       "      <td>{'id': 'SP.DYN.LE00.IN', 'value': 'Life expect...</td>\n",
       "      <td>{'id': 'ZH', 'value': 'Africa Eastern and Sout...</td>\n",
       "      <td>AFE</td>\n",
       "      <td>2023</td>\n",
       "      <td>NaN</td>\n",
       "      <td></td>\n",
       "      <td></td>\n",
       "      <td>0</td>\n",
       "    </tr>\n",
       "    <tr>\n",
       "      <th>1</th>\n",
       "      <td>{'id': 'SP.DYN.LE00.IN', 'value': 'Life expect...</td>\n",
       "      <td>{'id': 'ZH', 'value': 'Africa Eastern and Sout...</td>\n",
       "      <td>AFE</td>\n",
       "      <td>2022</td>\n",
       "      <td>62.888463</td>\n",
       "      <td></td>\n",
       "      <td></td>\n",
       "      <td>0</td>\n",
       "    </tr>\n",
       "    <tr>\n",
       "      <th>2</th>\n",
       "      <td>{'id': 'SP.DYN.LE00.IN', 'value': 'Life expect...</td>\n",
       "      <td>{'id': 'ZH', 'value': 'Africa Eastern and Sout...</td>\n",
       "      <td>AFE</td>\n",
       "      <td>2021</td>\n",
       "      <td>62.449093</td>\n",
       "      <td></td>\n",
       "      <td></td>\n",
       "      <td>0</td>\n",
       "    </tr>\n",
       "    <tr>\n",
       "      <th>3</th>\n",
       "      <td>{'id': 'SP.DYN.LE00.IN', 'value': 'Life expect...</td>\n",
       "      <td>{'id': 'ZH', 'value': 'Africa Eastern and Sout...</td>\n",
       "      <td>AFE</td>\n",
       "      <td>2020</td>\n",
       "      <td>63.309794</td>\n",
       "      <td></td>\n",
       "      <td></td>\n",
       "      <td>0</td>\n",
       "    </tr>\n",
       "    <tr>\n",
       "      <th>4</th>\n",
       "      <td>{'id': 'SP.DYN.LE00.IN', 'value': 'Life expect...</td>\n",
       "      <td>{'id': 'ZH', 'value': 'Africa Eastern and Sout...</td>\n",
       "      <td>AFE</td>\n",
       "      <td>2019</td>\n",
       "      <td>63.754752</td>\n",
       "      <td></td>\n",
       "      <td></td>\n",
       "      <td>0</td>\n",
       "    </tr>\n",
       "  </tbody>\n",
       "</table>\n",
       "</div>"
      ],
      "text/plain": [
       "                                           indicator  \\\n",
       "0  {'id': 'SP.DYN.LE00.IN', 'value': 'Life expect...   \n",
       "1  {'id': 'SP.DYN.LE00.IN', 'value': 'Life expect...   \n",
       "2  {'id': 'SP.DYN.LE00.IN', 'value': 'Life expect...   \n",
       "3  {'id': 'SP.DYN.LE00.IN', 'value': 'Life expect...   \n",
       "4  {'id': 'SP.DYN.LE00.IN', 'value': 'Life expect...   \n",
       "\n",
       "                                             country countryiso3code  date  \\\n",
       "0  {'id': 'ZH', 'value': 'Africa Eastern and Sout...             AFE  2023   \n",
       "1  {'id': 'ZH', 'value': 'Africa Eastern and Sout...             AFE  2022   \n",
       "2  {'id': 'ZH', 'value': 'Africa Eastern and Sout...             AFE  2021   \n",
       "3  {'id': 'ZH', 'value': 'Africa Eastern and Sout...             AFE  2020   \n",
       "4  {'id': 'ZH', 'value': 'Africa Eastern and Sout...             AFE  2019   \n",
       "\n",
       "       value unit obs_status  decimal  \n",
       "0        NaN                        0  \n",
       "1  62.888463                        0  \n",
       "2  62.449093                        0  \n",
       "3  63.309794                        0  \n",
       "4  63.754752                        0  "
      ]
     },
     "execution_count": 167,
     "metadata": {},
     "output_type": "execute_result"
    }
   ],
   "source": [
    "el_df.head()"
   ]
  },
  {
   "cell_type": "code",
   "execution_count": 133,
   "id": "aa4fd6ad-1d49-41c9-af54-4e38d5c11ec9",
   "metadata": {},
   "outputs": [
    {
     "name": "stdout",
     "output_type": "stream",
     "text": [
      "life_expectancy 17024\n"
     ]
    }
   ],
   "source": [
    "print(\"life_expectancy\", len(el_df))"
   ]
  },
  {
   "cell_type": "markdown",
   "id": "52869662-7cf2-45ab-a895-fc90ab2efe52",
   "metadata": {},
   "source": [
    "3. Merge the two results DataFrames together. You may want to rename or drop columns prior to merging."
   ]
  },
  {
   "cell_type": "code",
   "execution_count": 169,
   "id": "d604362b-d04f-4c85-b100-21d95e9fb1f4",
   "metadata": {},
   "outputs": [
    {
     "name": "stdout",
     "output_type": "stream",
     "text": [
      "Updated GDP DataFrame columns:\n",
      "Index(['gdp_indicator', 'country', 'countryiso3code', 'date', 'value', 'unit',\n",
      "       'obs_status', 'decimal'],\n",
      "      dtype='object')\n"
     ]
    }
   ],
   "source": [
    "df = df.rename(columns={'indicator': 'gdp_indicator'})\n",
    "print(\"Updated GDP DataFrame columns:\")\n",
    "print(df.columns)"
   ]
  },
  {
   "cell_type": "markdown",
   "id": "e06e2cd9-5f06-4ae5-84b3-8b0a35e8711d",
   "metadata": {},
   "source": [
    "The rename() method is renaming the column. indicator: gdp_indicator is a dictionary that specifies the exact column to rename and what name to give it in the argument. df = is assigning the result of the renaming back to df. I need to assign it back to the original df to store the changes after it is renamed."
   ]
  },
  {
   "cell_type": "code",
   "execution_count": 171,
   "id": "ced9e727-77e2-444f-825a-add78ae127b2",
   "metadata": {},
   "outputs": [
    {
     "name": "stdout",
     "output_type": "stream",
     "text": [
      "Updated life_expectancy DataFrame columns:\n",
      "Index(['life_expectancy_indicator', 'country', 'countryiso3code', 'date',\n",
      "       'value', 'unit', 'obs_status', 'decimal'],\n",
      "      dtype='object')\n"
     ]
    }
   ],
   "source": [
    "el_df = el_df.rename(columns={'indicator': 'life_expectancy_indicator'})\n",
    "print(\"Updated life_expectancy DataFrame columns:\")\n",
    "print(el_df.columns)"
   ]
  },
  {
   "cell_type": "code",
   "execution_count": 187,
   "id": "1edf5f0e-e28a-4d6e-891d-e53619d654ba",
   "metadata": {},
   "outputs": [
    {
     "ename": "KeyError",
     "evalue": "\"['unit', 'obs_status'] not found in axis\"",
     "output_type": "error",
     "traceback": [
      "\u001b[1;31m---------------------------------------------------------------------------\u001b[0m",
      "\u001b[1;31mKeyError\u001b[0m                                  Traceback (most recent call last)",
      "Cell \u001b[1;32mIn[187], line 1\u001b[0m\n\u001b[1;32m----> 1\u001b[0m df \u001b[38;5;241m=\u001b[39m df\u001b[38;5;241m.\u001b[39mdrop(columns\u001b[38;5;241m=\u001b[39m[\u001b[38;5;124m'\u001b[39m\u001b[38;5;124munit\u001b[39m\u001b[38;5;124m'\u001b[39m, \u001b[38;5;124m'\u001b[39m\u001b[38;5;124mobs_status\u001b[39m\u001b[38;5;124m'\u001b[39m])\n",
      "File \u001b[1;32m~\\anaconda3\\Lib\\site-packages\\pandas\\core\\frame.py:5581\u001b[0m, in \u001b[0;36mDataFrame.drop\u001b[1;34m(self, labels, axis, index, columns, level, inplace, errors)\u001b[0m\n\u001b[0;32m   5433\u001b[0m \u001b[38;5;28;01mdef\u001b[39;00m \u001b[38;5;21mdrop\u001b[39m(\n\u001b[0;32m   5434\u001b[0m     \u001b[38;5;28mself\u001b[39m,\n\u001b[0;32m   5435\u001b[0m     labels: IndexLabel \u001b[38;5;241m|\u001b[39m \u001b[38;5;28;01mNone\u001b[39;00m \u001b[38;5;241m=\u001b[39m \u001b[38;5;28;01mNone\u001b[39;00m,\n\u001b[1;32m   (...)\u001b[0m\n\u001b[0;32m   5442\u001b[0m     errors: IgnoreRaise \u001b[38;5;241m=\u001b[39m \u001b[38;5;124m\"\u001b[39m\u001b[38;5;124mraise\u001b[39m\u001b[38;5;124m\"\u001b[39m,\n\u001b[0;32m   5443\u001b[0m ) \u001b[38;5;241m-\u001b[39m\u001b[38;5;241m>\u001b[39m DataFrame \u001b[38;5;241m|\u001b[39m \u001b[38;5;28;01mNone\u001b[39;00m:\n\u001b[0;32m   5444\u001b[0m \u001b[38;5;250m    \u001b[39m\u001b[38;5;124;03m\"\"\"\u001b[39;00m\n\u001b[0;32m   5445\u001b[0m \u001b[38;5;124;03m    Drop specified labels from rows or columns.\u001b[39;00m\n\u001b[0;32m   5446\u001b[0m \n\u001b[1;32m   (...)\u001b[0m\n\u001b[0;32m   5579\u001b[0m \u001b[38;5;124;03m            weight  1.0     0.8\u001b[39;00m\n\u001b[0;32m   5580\u001b[0m \u001b[38;5;124;03m    \"\"\"\u001b[39;00m\n\u001b[1;32m-> 5581\u001b[0m     \u001b[38;5;28;01mreturn\u001b[39;00m \u001b[38;5;28msuper\u001b[39m()\u001b[38;5;241m.\u001b[39mdrop(\n\u001b[0;32m   5582\u001b[0m         labels\u001b[38;5;241m=\u001b[39mlabels,\n\u001b[0;32m   5583\u001b[0m         axis\u001b[38;5;241m=\u001b[39maxis,\n\u001b[0;32m   5584\u001b[0m         index\u001b[38;5;241m=\u001b[39mindex,\n\u001b[0;32m   5585\u001b[0m         columns\u001b[38;5;241m=\u001b[39mcolumns,\n\u001b[0;32m   5586\u001b[0m         level\u001b[38;5;241m=\u001b[39mlevel,\n\u001b[0;32m   5587\u001b[0m         inplace\u001b[38;5;241m=\u001b[39minplace,\n\u001b[0;32m   5588\u001b[0m         errors\u001b[38;5;241m=\u001b[39merrors,\n\u001b[0;32m   5589\u001b[0m     )\n",
      "File \u001b[1;32m~\\anaconda3\\Lib\\site-packages\\pandas\\core\\generic.py:4788\u001b[0m, in \u001b[0;36mNDFrame.drop\u001b[1;34m(self, labels, axis, index, columns, level, inplace, errors)\u001b[0m\n\u001b[0;32m   4786\u001b[0m \u001b[38;5;28;01mfor\u001b[39;00m axis, labels \u001b[38;5;129;01min\u001b[39;00m axes\u001b[38;5;241m.\u001b[39mitems():\n\u001b[0;32m   4787\u001b[0m     \u001b[38;5;28;01mif\u001b[39;00m labels \u001b[38;5;129;01mis\u001b[39;00m \u001b[38;5;129;01mnot\u001b[39;00m \u001b[38;5;28;01mNone\u001b[39;00m:\n\u001b[1;32m-> 4788\u001b[0m         obj \u001b[38;5;241m=\u001b[39m obj\u001b[38;5;241m.\u001b[39m_drop_axis(labels, axis, level\u001b[38;5;241m=\u001b[39mlevel, errors\u001b[38;5;241m=\u001b[39merrors)\n\u001b[0;32m   4790\u001b[0m \u001b[38;5;28;01mif\u001b[39;00m inplace:\n\u001b[0;32m   4791\u001b[0m     \u001b[38;5;28mself\u001b[39m\u001b[38;5;241m.\u001b[39m_update_inplace(obj)\n",
      "File \u001b[1;32m~\\anaconda3\\Lib\\site-packages\\pandas\\core\\generic.py:4830\u001b[0m, in \u001b[0;36mNDFrame._drop_axis\u001b[1;34m(self, labels, axis, level, errors, only_slice)\u001b[0m\n\u001b[0;32m   4828\u001b[0m         new_axis \u001b[38;5;241m=\u001b[39m axis\u001b[38;5;241m.\u001b[39mdrop(labels, level\u001b[38;5;241m=\u001b[39mlevel, errors\u001b[38;5;241m=\u001b[39merrors)\n\u001b[0;32m   4829\u001b[0m     \u001b[38;5;28;01melse\u001b[39;00m:\n\u001b[1;32m-> 4830\u001b[0m         new_axis \u001b[38;5;241m=\u001b[39m axis\u001b[38;5;241m.\u001b[39mdrop(labels, errors\u001b[38;5;241m=\u001b[39merrors)\n\u001b[0;32m   4831\u001b[0m     indexer \u001b[38;5;241m=\u001b[39m axis\u001b[38;5;241m.\u001b[39mget_indexer(new_axis)\n\u001b[0;32m   4833\u001b[0m \u001b[38;5;66;03m# Case for non-unique axis\u001b[39;00m\n\u001b[0;32m   4834\u001b[0m \u001b[38;5;28;01melse\u001b[39;00m:\n",
      "File \u001b[1;32m~\\anaconda3\\Lib\\site-packages\\pandas\\core\\indexes\\base.py:7070\u001b[0m, in \u001b[0;36mIndex.drop\u001b[1;34m(self, labels, errors)\u001b[0m\n\u001b[0;32m   7068\u001b[0m \u001b[38;5;28;01mif\u001b[39;00m mask\u001b[38;5;241m.\u001b[39many():\n\u001b[0;32m   7069\u001b[0m     \u001b[38;5;28;01mif\u001b[39;00m errors \u001b[38;5;241m!=\u001b[39m \u001b[38;5;124m\"\u001b[39m\u001b[38;5;124mignore\u001b[39m\u001b[38;5;124m\"\u001b[39m:\n\u001b[1;32m-> 7070\u001b[0m         \u001b[38;5;28;01mraise\u001b[39;00m \u001b[38;5;167;01mKeyError\u001b[39;00m(\u001b[38;5;124mf\u001b[39m\u001b[38;5;124m\"\u001b[39m\u001b[38;5;132;01m{\u001b[39;00mlabels[mask]\u001b[38;5;241m.\u001b[39mtolist()\u001b[38;5;132;01m}\u001b[39;00m\u001b[38;5;124m not found in axis\u001b[39m\u001b[38;5;124m\"\u001b[39m)\n\u001b[0;32m   7071\u001b[0m     indexer \u001b[38;5;241m=\u001b[39m indexer[\u001b[38;5;241m~\u001b[39mmask]\n\u001b[0;32m   7072\u001b[0m \u001b[38;5;28;01mreturn\u001b[39;00m \u001b[38;5;28mself\u001b[39m\u001b[38;5;241m.\u001b[39mdelete(indexer)\n",
      "\u001b[1;31mKeyError\u001b[0m: \"['unit', 'obs_status'] not found in axis\""
     ]
    }
   ],
   "source": [
    "df = df.drop(columns=['unit', 'obs_status'])"
   ]
  },
  {
   "cell_type": "code",
   "execution_count": null,
   "id": "c234bf7d-12ac-42ee-ac99-8ddd61fba28c",
   "metadata": {},
   "outputs": [],
   "source": []
  }
 ],
 "metadata": {
  "kernelspec": {
   "display_name": "Python [conda env:base] *",
   "language": "python",
   "name": "conda-base-py"
  },
  "language_info": {
   "codemirror_mode": {
    "name": "ipython",
    "version": 3
   },
   "file_extension": ".py",
   "mimetype": "text/x-python",
   "name": "python",
   "nbconvert_exporter": "python",
   "pygments_lexer": "ipython3",
   "version": "3.12.7"
  }
 },
 "nbformat": 4,
 "nbformat_minor": 5
}
